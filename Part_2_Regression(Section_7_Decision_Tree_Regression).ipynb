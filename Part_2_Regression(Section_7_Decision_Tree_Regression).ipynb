{
  "nbformat": 4,
  "nbformat_minor": 0,
  "metadata": {
    "colab": {
      "name": "Part-2 Regression(Section-7 Decision Tree Regression).ipynb",
      "provenance": [],
      "collapsed_sections": [],
      "authorship_tag": "ABX9TyOQo+PbPBwyKyWY42MDk7Ki",
      "include_colab_link": true
    },
    "kernelspec": {
      "name": "python3",
      "display_name": "Python 3"
    },
    "language_info": {
      "name": "python"
    }
  },
  "cells": [
    {
      "cell_type": "markdown",
      "metadata": {
        "id": "view-in-github",
        "colab_type": "text"
      },
      "source": [
        "<a href=\"https://colab.research.google.com/github/KrishnaPandya-VGEC-IT/Machine-Learning/blob/main/Part_2_Regression(Section_7_Decision_Tree_Regression).ipynb\" target=\"_parent\"><img src=\"https://colab.research.google.com/assets/colab-badge.svg\" alt=\"Open In Colab\"/></a>"
      ]
    },
    {
      "cell_type": "markdown",
      "metadata": {
        "id": "F9p3cx6CHqEN"
      },
      "source": [
        "## Importing the Libraries"
      ]
    },
    {
      "cell_type": "code",
      "metadata": {
        "id": "ppcph1VWGomO"
      },
      "source": [
        "import pandas as pd\n",
        "import numpy as np\n",
        "import matplotlib.pyplot as plt"
      ],
      "execution_count": null,
      "outputs": []
    },
    {
      "cell_type": "markdown",
      "metadata": {
        "id": "Z4gmg3jqHsxC"
      },
      "source": [
        "## Importing the Dataset"
      ]
    },
    {
      "cell_type": "code",
      "metadata": {
        "id": "nIdWV3fBHwq9"
      },
      "source": [
        "data = pd.read_csv('/content/Position_Salaries.csv')\n",
        "X = data.iloc[:,1:-1].values\n",
        "y = data.iloc[:,-1].values"
      ],
      "execution_count": null,
      "outputs": []
    },
    {
      "cell_type": "markdown",
      "metadata": {
        "id": "eiBML_5hHuws"
      },
      "source": [
        "## Training the Decision Tree Regression model on Whole Dataset"
      ]
    },
    {
      "cell_type": "code",
      "metadata": {
        "colab": {
          "base_uri": "https://localhost:8080/"
        },
        "id": "r4e2xQ9aJWl6",
        "outputId": "451dd72a-5746-4753-fa5a-f7be9a723bce"
      },
      "source": [
        "from sklearn.tree import DecisionTreeRegressor\n",
        "regressor = DecisionTreeRegressor(random_state = 0)\n",
        "regressor.fit(X,y)"
      ],
      "execution_count": null,
      "outputs": [
        {
          "output_type": "execute_result",
          "data": {
            "text/plain": [
              "DecisionTreeRegressor(ccp_alpha=0.0, criterion='mse', max_depth=None,\n",
              "                      max_features=None, max_leaf_nodes=None,\n",
              "                      min_impurity_decrease=0.0, min_impurity_split=None,\n",
              "                      min_samples_leaf=1, min_samples_split=2,\n",
              "                      min_weight_fraction_leaf=0.0, presort='deprecated',\n",
              "                      random_state=0, splitter='best')"
            ]
          },
          "metadata": {},
          "execution_count": 18
        }
      ]
    },
    {
      "cell_type": "markdown",
      "metadata": {
        "id": "LlndGpBCLscB"
      },
      "source": [
        "## Predicting the test Result"
      ]
    },
    {
      "cell_type": "code",
      "metadata": {
        "colab": {
          "base_uri": "https://localhost:8080/"
        },
        "id": "CxljTMO1Luvc",
        "outputId": "452b9a60-960f-482a-8672-d2be124aafc6"
      },
      "source": [
        "print(regressor.predict([[6.5]]))"
      ],
      "execution_count": null,
      "outputs": [
        {
          "output_type": "stream",
          "name": "stdout",
          "text": [
            "[150000.]\n"
          ]
        }
      ]
    },
    {
      "cell_type": "markdown",
      "metadata": {
        "id": "2fKddRgsM_Dq"
      },
      "source": [
        "## Visualizing the Decision Tree Regression Results(for Higher Resolution)"
      ]
    },
    {
      "cell_type": "code",
      "metadata": {
        "colab": {
          "base_uri": "https://localhost:8080/",
          "height": 295
        },
        "id": "QlVYHNQyNEvi",
        "outputId": "3fda6cf0-cf03-4662-fc44-ff9e1012b610"
      },
      "source": [
        "X_grid = np.arange(min(X),max(X),0.1)\n",
        "X_grid = np.reshape(X_grid,(-1,1))\n",
        "plt.scatter(X,y,color=\"blue\")\n",
        "plt.plot(X_grid, regressor.predict(X_grid),color = \"orange\")\n",
        "plt.title(\"Decision Tree Regression\")\n",
        "plt.xlabel(\"Position Level\")\n",
        "plt.ylabel(\"Salaries\")\n",
        "plt.show()"
      ],
      "execution_count": null,
      "outputs": [
        {
          "output_type": "display_data",
          "data": {
            "image/png": "[encoded data removed]",
            "text/plain": [
              "<Figure size 432x288 with 1 Axes>"
            ]
          },
          "metadata": {
            "needs_background": "light"
          }
        }
      ]
    },
    {
      "cell_type": "code",
      "metadata": {
        "colab": {
          "base_uri": "https://localhost:8080/",
          "height": 295
        },
        "id": "RIrotV02OxVH",
        "outputId": "fb008d98-eac4-4fbf-cbe5-8b5ea4f60534"
      },
      "source": [
        "#Lower resolution curve [Doesn't make any sense because graph will just connect two dots with line.]\n",
        "\n",
        "plt.scatter(X,y,color=\"blue\")\n",
        "plt.plot(X, regressor.predict(X),color = \"orange\")\n",
        "plt.title(\"Decision Tree Regression\")\n",
        "plt.xlabel(\"Position Level\")\n",
        "plt.ylabel(\"Salaries\")\n",
        "plt.show()"
      ],
      "execution_count": null,
      "outputs": [
        {
          "output_type": "display_data",
          "data": {
            "image/png": "[encoded data removed]",
            "text/plain": [
              "<Figure size 432x288 with 1 Axes>"
            ]
          },
          "metadata": {
            "needs_background": "light"
          }
        }
      ]
    }
  ]
}