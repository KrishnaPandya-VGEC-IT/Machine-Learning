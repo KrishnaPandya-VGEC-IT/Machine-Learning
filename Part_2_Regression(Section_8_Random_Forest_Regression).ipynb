{
  "nbformat": 4,
  "nbformat_minor": 0,
  "metadata": {
    "colab": {
      "name": "Part-2 Regression(Section-8 Random Forest Regression).ipynb",
      "provenance": [],
      "authorship_tag": "ABX9TyMTv2cKQkH0tJMAHre6N9c0",
      "include_colab_link": true
    },
    "kernelspec": {
      "name": "python3",
      "display_name": "Python 3"
    },
    "language_info": {
      "name": "python"
    }
  },
  "cells": [
    {
      "cell_type": "markdown",
      "metadata": {
        "id": "view-in-github",
        "colab_type": "text"
      },
      "source": [
        "<a href=\"https://colab.research.google.com/github/KrishnaPandya-VGEC-IT/Machine-Learning/blob/main/Part_2_Regression(Section_8_Random_Forest_Regression).ipynb\" target=\"_parent\"><img src=\"https://colab.research.google.com/assets/colab-badge.svg\" alt=\"Open In Colab\"/></a>"
      ]
    },
    {
      "cell_type": "markdown",
      "metadata": {
        "id": "1lSTYHSLU0il"
      },
      "source": [
        "## Importing the Libraries"
      ]
    },
    {
      "cell_type": "code",
      "metadata": {
        "id": "nRLBOORFUIgL"
      },
      "source": [
        "import pandas as pd\n",
        "import numpy as np\n",
        "import matplotlib.pyplot as plt"
      ],
      "execution_count": null,
      "outputs": []
    },
    {
      "cell_type": "markdown",
      "metadata": {
        "id": "R6OoThK9U-Hk"
      },
      "source": [
        "## Importing the Dataset"
      ]
    },
    {
      "cell_type": "code",
      "metadata": {
        "id": "GDdIpjoGVAFB"
      },
      "source": [
        "data = pd.read_csv('/content/Position_Salaries.csv')\n",
        "X = data.iloc[:,1:-1].values\n",
        "y = data.iloc[:,-1].values"
      ],
      "execution_count": null,
      "outputs": []
    },
    {
      "cell_type": "markdown",
      "metadata": {
        "id": "ocWS_sv3VTMT"
      },
      "source": [
        "## Training Random Forest Regression model"
      ]
    },
    {
      "cell_type": "code",
      "metadata": {
        "colab": {
          "base_uri": "https://localhost:8080/"
        },
        "id": "TOwW7_8gVQ0z",
        "outputId": "8e893545-b450-41fe-df23-965bf8b680de"
      },
      "source": [
        "from sklearn.ensemble import RandomForestRegressor\n",
        "regressor = RandomForestRegressor(n_estimators = 10, random_state=0)\n",
        "regressor.fit(X,y)"
      ],
      "execution_count": null,
      "outputs": [
        {
          "output_type": "execute_result",
          "data": {
            "text/plain": [
              "RandomForestRegressor(bootstrap=True, ccp_alpha=0.0, criterion='mse',\n",
              "                      max_depth=None, max_features='auto', max_leaf_nodes=None,\n",
              "                      max_samples=None, min_impurity_decrease=0.0,\n",
              "                      min_impurity_split=None, min_samples_leaf=1,\n",
              "                      min_samples_split=2, min_weight_fraction_leaf=0.0,\n",
              "                      n_estimators=10, n_jobs=None, oob_score=False,\n",
              "                      random_state=0, verbose=0, warm_start=False)"
            ]
          },
          "metadata": {},
          "execution_count": 7
        }
      ]
    },
    {
      "cell_type": "markdown",
      "metadata": {
        "id": "b6ZO04_PVwZI"
      },
      "source": [
        "## Predicting the Result"
      ]
    },
    {
      "cell_type": "code",
      "metadata": {
        "colab": {
          "base_uri": "https://localhost:8080/"
        },
        "id": "_eJzAQUtVvgL",
        "outputId": "ea914adf-1081-48a2-a9c3-f8141f54ac33"
      },
      "source": [
        "regressor.predict([[6.5]])"
      ],
      "execution_count": null,
      "outputs": [
        {
          "output_type": "execute_result",
          "data": {
            "text/plain": [
              "array([167000.])"
            ]
          },
          "metadata": {},
          "execution_count": 8
        }
      ]
    },
    {
      "cell_type": "markdown",
      "metadata": {
        "id": "jfkuIOspV1Zv"
      },
      "source": [
        "## Visualizing the results"
      ]
    },
    {
      "cell_type": "code",
      "metadata": {
        "colab": {
          "base_uri": "https://localhost:8080/",
          "height": 295
        },
        "id": "gTyd4OPtV0Cc",
        "outputId": "5f7b4da6-c157-42c4-a591-c73078922d90"
      },
      "source": [
        "X_grid = np.arange(min(X),max(X),0.1)\n",
        "X_grid = np.reshape(X_grid,(-1,1))\n",
        "plt.scatter(X,y,color = \"blue\")\n",
        "plt.plot(X_grid,regressor.predict(X_grid),color = \"orange\")\n",
        "plt.title(\"Random Forest Regression\")\n",
        "plt.xlabel(\"Position Level\")\n",
        "plt.ylabel(\"Salary\")\n",
        "plt.show()"
      ],
      "execution_count": null,
      "outputs": [
        {
          "output_type": "display_data",
          "data": {
            "image/png": "[encoded data removed]",
            "text/plain": [
              "<Figure size 432x288 with 1 Axes>"
            ]
          },
          "metadata": {
            "needs_background": "light"
          }
        }
      ]
    }
  ]
}